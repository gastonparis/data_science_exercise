{
 "cells": [
  {
   "cell_type": "markdown",
   "metadata": {},
   "source": [
    "# Exploratory analysis of Dota 2 tournament data\n",
    "\n",
    "Dota 2 is a multiplayer online battle arena (MOBA) video game developed and published by Valve Corporation. It is played in matches between two teams of five players, the _Radiant_ and the _Dire_, with each team occupying and defending their own separate base on the map. Each of the ten players independently controls a powerful character, known as a \"hero\", who all have unique abilities and differing styles of play. A team wins by being the first to destroy the other team's \"Ancient\", a large structure located within their base.<sup>[1]</sup>\n",
    "\n",
    "In this notebook, you will do some exploratory analysis of Dota's biggest tournament, [The International](https://en.wikipedia.org/wiki/The_International_(Dota_2)). The dataset provided has all the matches from the 2018 edition of the tournament.\n",
    "\n",
    "[1]: https://en.wikipedia.org/wiki/Dota_2"
   ]
  },
  {
   "cell_type": "markdown",
   "metadata": {},
   "source": [
    "## Draft stage\n",
    "\n",
    "Players select their hero during a pre-game drafting phase, where they can also discuss potential strategies and hero matchups with their teammates. Heroes are removed from the drafting pool and become unavailable for all other players once one is selected, and can not be changed once the drafting phase is over. During this stage, teams also **ban** heroes from the pool, so no team can select them."
   ]
  },
  {
   "cell_type": "markdown",
   "metadata": {},
   "source": [
    "## Loading the dataset"
   ]
  },
  {
   "cell_type": "code",
   "execution_count": 1,
   "metadata": {},
   "outputs": [
    {
     "data": {
      "text/html": [
       "<div>\n",
       "<style scoped>\n",
       "    .dataframe tbody tr th:only-of-type {\n",
       "        vertical-align: middle;\n",
       "    }\n",
       "\n",
       "    .dataframe tbody tr th {\n",
       "        vertical-align: top;\n",
       "    }\n",
       "\n",
       "    .dataframe thead th {\n",
       "        text-align: right;\n",
       "    }\n",
       "</style>\n",
       "<table border=\"1\" class=\"dataframe\">\n",
       "  <thead>\n",
       "    <tr style=\"text-align: right;\">\n",
       "      <th></th>\n",
       "      <th>match_id</th>\n",
       "      <th>date</th>\n",
       "      <th>duration</th>\n",
       "      <th>radiant_team</th>\n",
       "      <th>radiant_picks</th>\n",
       "      <th>radiant_bans</th>\n",
       "      <th>radiant_score</th>\n",
       "      <th>dire_team</th>\n",
       "      <th>dire_picks</th>\n",
       "      <th>dire_bans</th>\n",
       "      <th>dire_score</th>\n",
       "      <th>radiant_win</th>\n",
       "    </tr>\n",
       "  </thead>\n",
       "  <tbody>\n",
       "    <tr>\n",
       "      <th>0</th>\n",
       "      <td>4061660411</td>\n",
       "      <td>2018-08-15 16:02:15</td>\n",
       "      <td>3031</td>\n",
       "      <td>Fnatic</td>\n",
       "      <td>[Io, Gyrocopter, Bane, Tiny, Enigma]</td>\n",
       "      <td>[Chen, Nature's Prophet, Weaver, Enchantress, ...</td>\n",
       "      <td>41</td>\n",
       "      <td>Team Liquid</td>\n",
       "      <td>[Earthshaker, Crystal Maiden, Broodmother, Pug...</td>\n",
       "      <td>[Silencer, Necrophos, Meepo, Brewmaster, Kunkk...</td>\n",
       "      <td>42</td>\n",
       "      <td>False</td>\n",
       "    </tr>\n",
       "    <tr>\n",
       "      <th>1</th>\n",
       "      <td>4061662358</td>\n",
       "      <td>2018-08-15 16:03:47</td>\n",
       "      <td>3035</td>\n",
       "      <td>Evil Geniuses</td>\n",
       "      <td>[Phoenix, Ursa, Crystal Maiden, Clinkz, Alchem...</td>\n",
       "      <td>[Pugna, Tiny, Silencer, Dark Willow, Elder Tit...</td>\n",
       "      <td>49</td>\n",
       "      <td>VGJ Thunder</td>\n",
       "      <td>[Weaver, Vengeful Spirit, Wraith King, Winter ...</td>\n",
       "      <td>[Io, Necrophos, Enchantress, Rubick, Kunkka, S...</td>\n",
       "      <td>38</td>\n",
       "      <td>True</td>\n",
       "    </tr>\n",
       "    <tr>\n",
       "      <th>10</th>\n",
       "      <td>4061815647</td>\n",
       "      <td>2018-08-15 18:44:13</td>\n",
       "      <td>2457</td>\n",
       "      <td>Team Secret</td>\n",
       "      <td>[Necrophos, Pugna, Rubick, Ogre Magi, Dragon K...</td>\n",
       "      <td>[Silencer, Pudge, Enchantress, Mirana, Lycan, ...</td>\n",
       "      <td>14</td>\n",
       "      <td>Team Serenity</td>\n",
       "      <td>[Nyx Assassin, Clinkz, Crystal Maiden, Lina, T...</td>\n",
       "      <td>[Visage, Drow Ranger, Enigma, Arc Warden, Undy...</td>\n",
       "      <td>42</td>\n",
       "      <td>False</td>\n",
       "    </tr>\n",
       "    <tr>\n",
       "      <th>100</th>\n",
       "      <td>4065042825</td>\n",
       "      <td>2018-08-17 20:59:58</td>\n",
       "      <td>2314</td>\n",
       "      <td>Winstrike</td>\n",
       "      <td>[Nature's Prophet, Vengeful Spirit, Night Stal...</td>\n",
       "      <td>[Io, Broodmother, Enchantress, Necrophos, Weav...</td>\n",
       "      <td>19</td>\n",
       "      <td>Team Liquid</td>\n",
       "      <td>[Wraith King, Keeper of the Light, Chen, Drago...</td>\n",
       "      <td>[Clockwerk, Undying, Pugna, Drow Ranger, Phant...</td>\n",
       "      <td>25</td>\n",
       "      <td>False</td>\n",
       "    </tr>\n",
       "    <tr>\n",
       "      <th>101</th>\n",
       "      <td>4065077879</td>\n",
       "      <td>2018-08-17 21:41:14</td>\n",
       "      <td>2258</td>\n",
       "      <td>VGJ Thunder</td>\n",
       "      <td>[Silencer, Clinkz, Tiny, Dark Willow, Lycan]</td>\n",
       "      <td>[Io, Enchantress, Nature's Prophet, Pugna, Nec...</td>\n",
       "      <td>28</td>\n",
       "      <td>Mineski</td>\n",
       "      <td>[Wraith King, Mirana, Vengeful Spirit, Huskar,...</td>\n",
       "      <td>[Weaver, Terrorblade, Luna, Phantom Lancer, Un...</td>\n",
       "      <td>10</td>\n",
       "      <td>True</td>\n",
       "    </tr>\n",
       "  </tbody>\n",
       "</table>\n",
       "</div>"
      ],
      "text/plain": [
       "       match_id                date  duration   radiant_team  \\\n",
       "0    4061660411 2018-08-15 16:02:15      3031         Fnatic   \n",
       "1    4061662358 2018-08-15 16:03:47      3035  Evil Geniuses   \n",
       "10   4061815647 2018-08-15 18:44:13      2457    Team Secret   \n",
       "100  4065042825 2018-08-17 20:59:58      2314      Winstrike   \n",
       "101  4065077879 2018-08-17 21:41:14      2258    VGJ Thunder   \n",
       "\n",
       "                                         radiant_picks  \\\n",
       "0                 [Io, Gyrocopter, Bane, Tiny, Enigma]   \n",
       "1    [Phoenix, Ursa, Crystal Maiden, Clinkz, Alchem...   \n",
       "10   [Necrophos, Pugna, Rubick, Ogre Magi, Dragon K...   \n",
       "100  [Nature's Prophet, Vengeful Spirit, Night Stal...   \n",
       "101       [Silencer, Clinkz, Tiny, Dark Willow, Lycan]   \n",
       "\n",
       "                                          radiant_bans  radiant_score  \\\n",
       "0    [Chen, Nature's Prophet, Weaver, Enchantress, ...             41   \n",
       "1    [Pugna, Tiny, Silencer, Dark Willow, Elder Tit...             49   \n",
       "10   [Silencer, Pudge, Enchantress, Mirana, Lycan, ...             14   \n",
       "100  [Io, Broodmother, Enchantress, Necrophos, Weav...             19   \n",
       "101  [Io, Enchantress, Nature's Prophet, Pugna, Nec...             28   \n",
       "\n",
       "         dire_team                                         dire_picks  \\\n",
       "0      Team Liquid  [Earthshaker, Crystal Maiden, Broodmother, Pug...   \n",
       "1      VGJ Thunder  [Weaver, Vengeful Spirit, Wraith King, Winter ...   \n",
       "10   Team Serenity  [Nyx Assassin, Clinkz, Crystal Maiden, Lina, T...   \n",
       "100    Team Liquid  [Wraith King, Keeper of the Light, Chen, Drago...   \n",
       "101        Mineski  [Wraith King, Mirana, Vengeful Spirit, Huskar,...   \n",
       "\n",
       "                                             dire_bans  dire_score  \\\n",
       "0    [Silencer, Necrophos, Meepo, Brewmaster, Kunkk...          42   \n",
       "1    [Io, Necrophos, Enchantress, Rubick, Kunkka, S...          38   \n",
       "10   [Visage, Drow Ranger, Enigma, Arc Warden, Undy...          42   \n",
       "100  [Clockwerk, Undying, Pugna, Drow Ranger, Phant...          25   \n",
       "101  [Weaver, Terrorblade, Luna, Phantom Lancer, Un...          10   \n",
       "\n",
       "     radiant_win  \n",
       "0          False  \n",
       "1           True  \n",
       "10         False  \n",
       "100        False  \n",
       "101         True  "
      ]
     },
     "execution_count": 1,
     "metadata": {},
     "output_type": "execute_result"
    }
   ],
   "source": [
    "import pandas as pd\n",
    "\n",
    "df = pd.read_json(\"data/data.json\")\n",
    "df.head()"
   ]
  },
  {
   "cell_type": "markdown",
   "metadata": {},
   "source": [
    "The data contains serveral columns:\n",
    "\n",
    "- **Duration**: Match duration in seconds\n",
    "- **Radiant_team** / **Dire_team**: Name of the team that plays as the Radiant/Dire side\n",
    "- **Radiant_score** / **Dire_score**: The number of player kills for the Radiant/Dire side\n",
    "- **Radiant_picks** / **Dire_picks**: A list of the _drafted_ heroes by the Radiant/Dire side\n",
    "- **Radiant_bans** / **Dire_bans**: A list of the _banned_ heroes by the Radiant/Dire side\n",
    "- **Radiant_win**: `True` if match resulted in a Radiant victory, `False` when Dire won"
   ]
  },
  {
   "cell_type": "markdown",
   "metadata": {},
   "source": [
    "## First questions\n",
    "\n",
    "To answer these questions some standard operations with [`pandas`](https://pandas.pydata.org/pandas-docs/stable/reference/frame.html) should suffice."
   ]
  },
  {
   "cell_type": "markdown",
   "metadata": {},
   "source": [
    "#### 1. How many matches are in the dataset?"
   ]
  },
  {
   "cell_type": "code",
   "execution_count": 2,
   "metadata": {},
   "outputs": [
    {
     "data": {
      "text/plain": [
       "195"
      ]
     },
     "execution_count": 2,
     "metadata": {},
     "output_type": "execute_result"
    }
   ],
   "source": [
    "total_matches = len(df) ## Your answer here\n",
    "total_matches"
   ]
  },
  {
   "cell_type": "markdown",
   "metadata": {},
   "source": [
    "#### 2. How many wins by the Radiant side? How many wins by the Dire side?"
   ]
  },
  {
   "cell_type": "code",
   "execution_count": 3,
   "metadata": {},
   "outputs": [
    {
     "name": "stdout",
     "output_type": "stream",
     "text": [
      "Radiant Wins: 107\n",
      "Dire Wins: 88\n"
     ]
    }
   ],
   "source": [
    "radiant_wins = len(df.loc[df['radiant_win'] == True]) ## Your answer here\n",
    "dire_wins = len(df)-radiant_wins ## Your answer here\n",
    "\n",
    "print('Radiant Wins:', radiant_wins)\n",
    "print('Dire Wins:', dire_wins)"
   ]
  },
  {
   "cell_type": "markdown",
   "metadata": {},
   "source": [
    "#### 3. Find the longest and the shortest match in the tournament"
   ]
  },
  {
   "cell_type": "code",
   "execution_count": 4,
   "metadata": {},
   "outputs": [
    {
     "name": "stdout",
     "output_type": "stream",
     "text": [
      "Longest Match: 4912\n",
      "Shortest Match: 1019\n"
     ]
    }
   ],
   "source": [
    "longest_match = df.sort_values(by=['duration'], ascending = False).head(1)['duration'].values[0] ## Your answer here\n",
    "shortest_match = df.sort_values(by=['duration']).head(1)['duration'].values[0] ## Your answer here\n",
    "\n",
    "print('Longest Match:', longest_match)\n",
    "print('Shortest Match:', shortest_match)"
   ]
  },
  {
   "cell_type": "markdown",
   "metadata": {},
   "source": [
    "#### 4. Which team won the most matches? Which won the least?"
   ]
  },
  {
   "cell_type": "code",
   "execution_count": 29,
   "metadata": {},
   "outputs": [
    {
     "name": "stdout",
     "output_type": "stream",
     "text": [
      "Most Wins: ['Evil Geniuses', 'PSG.LGD']\n",
      "Least Wins: ['INVICTUS GAMING']\n"
     ]
    }
   ],
   "source": [
    "#group by radiant wins and count\n",
    "radiant_wins_df = df.loc[df['radiant_win'] == True].groupby('radiant_team').count()\n",
    "\n",
    "#group by dire wins and count\n",
    "dire_wins_df = df.loc[df['radiant_win'] == False].groupby('dire_team').count()\n",
    "\n",
    "#join series of radiant and dire wins\n",
    "result_df = pd.concat((radiant_wins_df['radiant_win'], dire_wins_df['radiant_win']), axis=1, sort=True)\n",
    "\n",
    "#convert NaN to 0\n",
    "result_df.fillna(0, inplace=True)\n",
    "\n",
    "#Add total_wins column as sum of radiant_wins and dire_wins\n",
    "result_df['total_wins'] = result_df.sum(axis=1)\n",
    "\n",
    "most_wins =  result_df.loc[result_df['total_wins'] == result_df['total_wins'].max()].index.tolist() ## Your answer here\n",
    "least_wins = result_df.loc[result_df['total_wins'] == result_df['total_wins'].min()].index.tolist() ## Your answer here\n",
    "\n",
    "print('Most Wins:',most_wins)\n",
    "print('Least Wins:', least_wins)"
   ]
  },
  {
   "cell_type": "markdown",
   "metadata": {},
   "source": [
    "#### 5. What was the last match played in the tournament? (Just return the match_id)"
   ]
  },
  {
   "cell_type": "code",
   "execution_count": 6,
   "metadata": {},
   "outputs": [
    {
     "name": "stdout",
     "output_type": "stream",
     "text": [
      "4080856812\n"
     ]
    }
   ],
   "source": [
    "last_match = df.sort_values(by='date').max()['match_id'] ## Your answer here\n",
    "print(last_match)"
   ]
  },
  {
   "cell_type": "markdown",
   "metadata": {},
   "source": [
    "#### 6. Match scores\n",
    "\n",
    "Find the following matches (if there are ties, just return a list of match_ids):\n",
    "\n",
    "- Match with the most amount of kills in _total_\n",
    "- Match with the least amount of kills in _total_\n",
    "- Most lopsided match (the match with the highest difference between the score of the winner and the score of the loser)\n",
    "- Tightest match (where the score difference is the smallest)"
   ]
  },
  {
   "cell_type": "code",
   "execution_count": 7,
   "metadata": {},
   "outputs": [
    {
     "name": "stdout",
     "output_type": "stream",
     "text": [
      "Most Kills Matchs: [4061952570]\n",
      "Least Kills Matchs: [4061880066, 4064812973]\n",
      "Lopsided Matchs: [4076114893, 4061742840]\n",
      "Tightest Matchs: [4067035268, 4062045592, 4065016209]\n"
     ]
    }
   ],
   "source": [
    "df['total_kills'] = df.loc[:,['radiant_score', 'dire_score']].sum(axis=1)\n",
    "\n",
    "most_kills_match = df.loc[df['total_kills'] == df['total_kills'].max()]['match_id'].values.tolist() ## Your answer here\n",
    "least_kills_match = df.loc[df['total_kills'] == df['total_kills'].min()]['match_id'].values.tolist() ## Your answer here\n",
    "\n",
    "df['kill_difference'] = df.apply(lambda row: abs(row.radiant_score - row.dire_score), axis=1)\n",
    "\n",
    "lopsided_match = df.loc[df['kill_difference'] == df['kill_difference'].max()]['match_id'].values.tolist() ## Your answer here\n",
    "tightest_match = df.loc[df['kill_difference'] == df['kill_difference'].min()]['match_id'].values.tolist() ## Your answer here\n",
    "\n",
    "\n",
    "print('Most Kills Matchs:', most_kills_match)\n",
    "print('Least Kills Matchs:', least_kills_match)\n",
    "\n",
    "print('Lopsided Matchs:',lopsided_match)\n",
    "print('Tightest Matchs:',tightest_match)\n"
   ]
  },
  {
   "cell_type": "markdown",
   "metadata": {},
   "source": [
    "## Plots\n",
    "\n",
    "To answer the following questions you can use any of the available plotting libraries (`matplotlib`, `seaborn`, `bokeh`, `plotly`)."
   ]
  },
  {
   "cell_type": "markdown",
   "metadata": {},
   "source": [
    "#### 7. Plot the number of wins per team"
   ]
  },
  {
   "cell_type": "code",
   "execution_count": 27,
   "metadata": {},
   "outputs": [
    {
     "data": {
      "image/png": "[encoded data removed]",
      "text/plain": [
       "<Figure size 432x288 with 1 Axes>"
      ]
     },
     "metadata": {
      "needs_background": "light"
     },
     "output_type": "display_data"
    }
   ],
   "source": [
    "# Change imports if using a different library\n",
    "\n",
    "%matplotlib inline\n",
    "import matplotlib.pyplot as plt\n",
    "\n",
    "# Your answer here\n",
    "\n",
    "result_df.sum(axis=1).plot(kind='bar') ##use the result_df dataframe created question 4\n",
    "\n",
    "plt.show()"
   ]
  },
  {
   "cell_type": "markdown",
   "metadata": {},
   "source": [
    "#### 8. Plot a histogram of the total number of kills per match"
   ]
  },
  {
   "cell_type": "code",
   "execution_count": 28,
   "metadata": {},
   "outputs": [
    {
     "data": {
      "image/png": "[encoded data removed]",
      "text/plain": [
       "<Figure size 432x288 with 1 Axes>"
      ]
     },
     "metadata": {
      "needs_background": "light"
     },
     "output_type": "display_data"
    }
   ],
   "source": [
    "# Your answer here\n",
    "\n",
    "plot = df['total_kills'].hist() ##Use of the column added to df in question 6\n",
    "\n",
    "plot.set(xlabel=\"Kills\", ylabel=\"Number of Matchs\") ##label axis\n",
    "\n",
    "plt.show()\n",
    "\n"
   ]
  },
  {
   "cell_type": "markdown",
   "metadata": {},
   "source": [
    "## Advanced questions\n",
    "\n",
    "These questions require more code. Feel free to add code cells with your own functions and even some brief explanations on how you intend to solve them."
   ]
  },
  {
   "cell_type": "markdown",
   "metadata": {},
   "source": [
    "#### 9. What are the top 3 heroes played on the Radiant side? Top 3 on the Dire?"
   ]
  },
  {
   "cell_type": "code",
   "execution_count": 26,
   "metadata": {},
   "outputs": [
    {
     "name": "stdout",
     "output_type": "stream",
     "text": [
      "Top 3 Radiant: ['Vengeful Spirit', 'Weaver', 'Necrophos']\n",
      "Top 3 Dire: ['Tiny', 'Mirana', 'Vengeful Spirit']\n"
     ]
    }
   ],
   "source": [
    "##This question is ambigous. I understand that \"Top 3 heroes\" are the most picked heroes in each team.\n",
    "##However it also can be the Top 3 heroes that more battles won for each team.\n",
    "##Finally, I search for most picked heroes in each team\n",
    "\n",
    "##Create a series with the number of matches that a hero was selected for each team. \n",
    "##In value_counts() sorted option is True by default\n",
    "\n",
    "radiant_heroes = pd.Series([hero for heroes in df['radiant_picks'].tolist() \n",
    "                                 for hero in heroes], name='radiant_heroes').value_counts()\n",
    "\n",
    "\n",
    "dire_heroes = pd.Series([hero for heroes in df['dire_picks'].tolist() \n",
    "                              for hero in heroes], name='dire_heroes').value_counts()\n",
    "\n",
    "\n",
    "top_3_radiant = radiant_heroes.index[0:3].tolist() ## Your answer here\n",
    "top_3_dire = dire_heroes.index[0:3].tolist() ## Your answer here\n",
    "\n",
    "print('Top 3 Radiant:', top_3_radiant)\n",
    "print('Top 3 Dire:', top_3_dire)\n"
   ]
  },
  {
   "cell_type": "markdown",
   "metadata": {},
   "source": [
    "#### 10. What is the winrate (number of matches won / total matches) for the Radiant/Dire when they draft _Weaver_\n",
    "\n",
    "Notice that the denominator is **not** the total number of matches in the dataset, but the number of matches where Weaver was picked for the Radiant/Dire."
   ]
  },
  {
   "cell_type": "code",
   "execution_count": 23,
   "metadata": {},
   "outputs": [
    {
     "name": "stdout",
     "output_type": "stream",
     "text": [
      "Radiant Weaver winrate: 0.6388888888888888\n",
      "Dire Weaver winrate: 0.5\n"
     ]
    }
   ],
   "source": [
    "##Calculates de winrate\n",
    "def calculate_winrate(row):\n",
    "    if row.total_wins == 0:\n",
    "        return 0\n",
    "    else:\n",
    "        return row.total_wins/row.heroes\n",
    "    \n",
    "    \n",
    "heroes_winrate = {}\n",
    "for team in [('radiant', True,), ('dire', False,)]:\n",
    "    ##Create a series with the number of matched won by each hero\n",
    "    wins = pd.Series([hero for heroes in df.loc[df['radiant_win'] == team[1]][team[0]+'_picks'].tolist() \n",
    "                                     for hero in heroes], name='total_wins').value_counts()\n",
    "    \n",
    "    ##Create a series with the number of matches that each hero participate\n",
    "    heroes = pd.Series([hero for heroes in df[team[0]+'_picks'].tolist() \n",
    "                                 for hero in heroes], name='heroes').value_counts()\n",
    "    \n",
    "    ##Join the series in dataframe \n",
    "    win_heroes_df = wins.to_frame().join(heroes, how = 'outer')\n",
    "    \n",
    "    ##Replace the NaN values by 0\n",
    "    win_heroes_df.fillna(0, inplace=True)\n",
    "    \n",
    "    ##Calculate the winrate = matches won/total matches that the hero participate\n",
    "    win_heroes_df['winrate'] = win_heroes_df.apply(calculate_winrate, axis=1)\n",
    "    \n",
    "    ##Store the created dataframe in a dictionary. The key is the name of the team \n",
    "    heroes_winrate[team[0]] = win_heroes_df\n",
    "    \n",
    "\n",
    "radiant_weaver_winrate = heroes_winrate['radiant'].loc['Weaver', 'winrate'] ## Your answer here\n",
    "dire_weaver_winrate = heroes_winrate['dire'].loc['Weaver', 'winrate'] ## Your answer here  \n",
    "\n",
    "print('Radiant Weaver winrate:', radiant_weaver_winrate)\n",
    "print('Dire Weaver winrate:',dire_weaver_winrate)"
   ]
  },
  {
   "cell_type": "code",
   "execution_count": null,
   "metadata": {},
   "outputs": [],
   "source": []
  }
 ],
 "metadata": {
  "kernelspec": {
   "display_name": "Python 3",
   "language": "python",
   "name": "python3"
  },
  "language_info": {
   "codemirror_mode": {
    "name": "ipython",
    "version": 3
   },
   "file_extension": ".py",
   "mimetype": "text/x-python",
   "name": "python",
   "nbconvert_exporter": "python",
   "pygments_lexer": "ipython3",
   "version": "3.7.3"
  }
 },
 "nbformat": 4,
 "nbformat_minor": 2
}
